{
 "cells": [
  {
   "cell_type": "code",
   "execution_count": null,
   "metadata": {},
   "outputs": [],
   "source": [
    "import pandas as pd\n",
    "import seaborn as sns\n",
    "import matplotlib.pyplot as plt"
   ]
  },
  {
   "cell_type": "code",
   "execution_count": null,
   "metadata": {},
   "outputs": [],
   "source": [
    "vanilla = pd.read_csv(\"./data/vanilla.csv\")\n",
    "vanilla[\"algorithm\"] = \"vanilla\"\n",
    "parfor = pd.read_csv(\"./data/parfor.csv\")\n",
    "parfor[\"algorithm\"] = \"parfor\"\n",
    "tiled = pd.read_csv(\"./data/tiled.csv\")\n",
    "tiled[\"algorithm\"] = \"tiled\"\n",
    "dac_notemp = pd.read_csv(\"./data/DAC_notemp.csv\")\n",
    "dac_notemp[\"algorithm\"] = \"dac_notemp\"\n",
    "dac_temp = pd.read_csv(\"./data/DAC_temp.csv\")\n",
    "dac_temp[\"algorithm\"] = \"dac_temp\"\n",
    "strassens = pd.read_csv(\"./data/strassens.csv\")\n",
    "strassens[\"algorithm\"] = \"strassens\""
   ]
  },
  {
   "cell_type": "code",
   "execution_count": null,
   "metadata": {},
   "outputs": [],
   "source": [
    "vanilla_median = vanilla.groupby([\"threads\", \"N\", \"algorithm\"]).median().reset_index()\n",
    "parfor_median = parfor.groupby([\"threads\", \"N\", \"algorithm\"]).median().reset_index()\n",
    "tiled_median = tiled.groupby([\"threads\", \"N\", \"param\", \"algorithm\"]).median().reset_index()\n",
    "dac_notemp_median = dac_notemp.groupby([\"threads\", \"N\", \"param\", \"algorithm\"]).median().reset_index()\n",
    "dac_temp_median = dac_temp.groupby([\"threads\", \"N\", \"param\", \"algorithm\"]).median().reset_index()\n",
    "strassens_median = strassens.groupby([\"threads\", \"N\", \"param\", \"algorithm\"]).median().reset_index()\n",
    "\n",
    "dfs = [vanilla_median, parfor_median, tiled_median, dac_notemp_median, dac_temp_median, strassens_median]"
   ]
  },
  {
   "cell_type": "code",
   "execution_count": null,
   "metadata": {},
   "outputs": [],
   "source": [
    "for df in dfs:\n",
    "    # df[\"serial_runtime(ms)\"] = df.apply(lambda r:\n",
    "    #                                     df.query(f\"N == {r['N']} and param == {r['param']} and threads == 1\")\n",
    "    #                                     [\"runtime(ms)\"].iloc[0], axis=1)\n",
    "    df[\"serial_runtime(ms)\"] = df.apply(lambda r: \n",
    "                                        vanilla_median.query(f\"N == {r['N']}\")[\"runtime(ms)\"].iloc[0], axis=1)\n",
    "    df[\"Speedup\"] = df[\"serial_runtime(ms)\"] / df[\"runtime(ms)\"]\n",
    "    df[\"Efficiency\"] = df[\"Speedup\"] / df[\"threads\"]"
   ]
  },
  {
   "cell_type": "code",
   "execution_count": null,
   "metadata": {},
   "outputs": [],
   "source": [
    "parfor_median[\"N\"].unique(), parfor_median[\"threads\"].unique()"
   ]
  },
  {
   "cell_type": "code",
   "execution_count": null,
   "metadata": {},
   "outputs": [],
   "source": [
    "max_time = max(map(lambda df: df[\"runtime(ms)\"].max(), dfs))\n",
    "max_time"
   ]
  },
  {
   "cell_type": "code",
   "execution_count": null,
   "metadata": {},
   "outputs": [],
   "source": [
    "all_runs = pd.concat(dfs).reset_index(drop=True)\n",
    "all_runs.loc[all_runs.groupby([\"threads\", \"N\"])[\"runtime(ms)\"].idxmin()]"
   ]
  },
  {
   "cell_type": "code",
   "execution_count": null,
   "metadata": {},
   "outputs": [],
   "source": [
    "for thr, g1 in all_runs.query(\"algorithm != 'vanilla'\").groupby(\"threads\"):\n",
    "    colors = sns.color_palette(\"pastel\", 6)\n",
    "    sns.lineplot(vanilla_median, x=\"N\", y=\"runtime(ms)\", label=\"vanilla\", \n",
    "                c=colors[0], linewidth=3, marker=\"X\", markersize=10)\n",
    "    for i, (alg, g2) in enumerate(g1.groupby(\"algorithm\")):\n",
    "        sns.lineplot(g2, x=\"N\", y=\"runtime(ms)\", label=alg,\n",
    "                     c=colors[i+1], errorbar=lambda x: (x.min(), x.max()),\n",
    "                     linewidth=3, marker=\"X\", markersize=10)\n",
    "    t = f\"Runtimes per Algorithm with threads = {thr}\"\n",
    "    plt.title(t, weight=\"bold\")\n",
    "    plt.xlim(64, g1[\"N\"].max())\n",
    "    plt.ylim(0, max_time)\n",
    "    plt.gcf().set_size_inches(8, 6)\n",
    "    plt.savefig(\"./figures/\" + t + \".png\", transparent=True)\n",
    "    plt.show()"
   ]
  },
  {
   "cell_type": "code",
   "execution_count": null,
   "metadata": {},
   "outputs": [],
   "source": [
    "def plot_runtimes(df, x, y, title):\n",
    "    colors = sns.color_palette(\"Spectral\", 6)\n",
    "    t = f\"Runtimes of the {title} Algorithm\"\n",
    "    sns.lineplot(df[df[\"threads\"] == 1], x=x, y=y, label=\"1 thread\", c=colors[0])\n",
    "    for i, threads in enumerate([2, 4, 8, 12, 16]):\n",
    "        sns.lineplot(df[df[\"threads\"] == threads], x=x, y=y, label=f\"{threads} threads\", c=colors[i+1],\n",
    "                     errorbar=lambda x: (x.min(), x.max()), marker=\"X\", markersize=10)\n",
    "    plt.title(t, weight=\"bold\")\n",
    "    plt.xlim(64, df[x].max())\n",
    "    plt.ylim(0, max_time)\n",
    "    plt.gcf().set_size_inches(8, 6)\n",
    "    plt.savefig(\"./figures/\" + t + \".png\", transparent=True)\n",
    "    plt.show()\n",
    "\n",
    "\n",
    "def plot_strong_scaling(df, x, y, title, param_name=None):\n",
    "    t = f\"Strong Scaling of the {title} Algorithm\"\n",
    "    colors = sns.color_palette(\"pastel\", len(df[\"param\"].unique()))\n",
    "    for p, c in zip(df[\"param\"].unique(), colors):\n",
    "        sns.lineplot(df[df[\"param\"] == p], x=x, y=y, errorbar=lambda x: (x.min(), x.max()), linewidth=3,\n",
    "                     label=f\"Real {y}\" + (f\" ({param_name} = {p})\" if param_name else \"\"), \n",
    "                     c=c, marker=\"X\", markersize=10)\n",
    "    if y == \"Speedup\":\n",
    "        plt.axline((1, 1), (df[x].max(), df[x].max()), label=f\"Ideal {y}\", c=\"black\")\n",
    "    else:\n",
    "        plt.axline((0, 1), (df[x].max(), 1), label=f\"Ideal {y}\", c=\"black\")\n",
    "    plt.title(t, weight=\"bold\")\n",
    "    plt.xlim(2, df[x].max())\n",
    "    if y == \"Speedup\":\n",
    "        plt.ylim(1, df[x].max())\n",
    "    else:\n",
    "        plt.ylim(0, 2)\n",
    "    plt.gcf().set_size_inches(8, 6)\n",
    "    plt.savefig(\"./figures/\" + t + f\" - {y}.png\", transparent=True)\n",
    "    plt.legend()\n",
    "    if y == \"Speedup\":\n",
    "        plt.grid()\n",
    "    plt.show()\n",
    "\n",
    "\n",
    "def plot_weak_scaling(df, x, y, title, param_name=None):\n",
    "    t = f\"Weak Scaling of the {title} Algorithm\"\n",
    "    colors = sns.color_palette(\"pastel\", len(df[\"param\"].unique()))\n",
    "    for p, c in zip(df[\"param\"].unique(), colors):\n",
    "        subset = df.query(f\"N == 64 * threads and param == {p}\")\n",
    "        sns.lineplot(subset, x=x, y=y, errorbar=lambda x: (x.min(), x.max()), linewidth=3,\n",
    "                     label=f\"Real {y}\" + (f\" ({param_name} = {p})\" if param_name else \"\"), \n",
    "                     c=c, marker=\"X\", markersize=10)\n",
    "    if y == \"Speedup\":\n",
    "        plt.axline((1, 1), (subset[x].max(), subset[x].max()), label=f\"Ideal {y}\", c=\"black\")\n",
    "    else:\n",
    "        plt.axline((0, 1), (subset[x].max(), 1), label=f\"Ideal {y}\", c=\"black\")\n",
    "    plt.title(t, weight=\"bold\")\n",
    "    plt.xlim(2, subset[x].max())\n",
    "    if y == \"Speedup\":\n",
    "        plt.ylim(1, subset[x].max())\n",
    "    else:\n",
    "        plt.ylim(0, 2)\n",
    "    plt.gcf().set_size_inches(8, 6)\n",
    "    plt.savefig(\"./figures/\" + t + f\" - {y}.png\", transparent=True)\n",
    "    plt.legend()\n",
    "    if y == \"Speedup\":\n",
    "        plt.grid()\n",
    "    plt.show()\n",
    "    "
   ]
  },
  {
   "cell_type": "code",
   "execution_count": null,
   "metadata": {},
   "outputs": [],
   "source": [
    "plot_runtimes(parfor_median, \"N\", \"runtime(ms)\", \"Parallel For\")\n",
    "plot_runtimes(tiled_median, \"N\", \"runtime(ms)\", \"Tiled\")\n",
    "plot_runtimes(dac_temp_median, \"N\", \"runtime(ms)\", \"DAC (with temp matrix)\")\n",
    "plot_runtimes(dac_notemp_median, \"N\", \"runtime(ms)\", \"DAC (without temp matrix)\")\n",
    "plot_runtimes(strassens_median, \"N\", \"runtime(ms)\", \"Strassens\")"
   ]
  },
  {
   "cell_type": "code",
   "execution_count": null,
   "metadata": {},
   "outputs": [],
   "source": [
    "max_N = 512\n",
    "plot_strong_scaling(parfor_median[parfor_median[\"N\"] == max_N], \"threads\", \"Speedup\", \"Parallel For\")\n",
    "plot_strong_scaling(tiled_median[tiled_median[\"N\"] == max_N], \"threads\", \"Speedup\", \"Tiled\", \"Tile Size\")\n",
    "plot_strong_scaling(dac_temp_median[dac_temp_median[\"N\"] == max_N], \"threads\", \"Speedup\", \"DAC (with temp matrix)\", \"Serial Cutoff\")\n",
    "plot_strong_scaling(dac_notemp_median[dac_notemp_median[\"N\"] == max_N], \"threads\", \"Speedup\", \"DAC (without temp matrix)\", \"Serial Cutoff\")\n",
    "plot_strong_scaling(strassens_median[strassens_median[\"N\"] == max_N], \"threads\", \"Speedup\", \"Strassens\", \"Serial Cutoff\")"
   ]
  },
  {
   "cell_type": "code",
   "execution_count": null,
   "metadata": {},
   "outputs": [],
   "source": [
    "plot_weak_scaling(parfor_median, \"threads\", \"Speedup\", \"Parallel For\")\n",
    "plot_weak_scaling(tiled_median, \"threads\", \"Speedup\", \"Tiled\", \"Tile Size\")\n",
    "plot_weak_scaling(dac_temp_median, \"threads\", \"Speedup\", \"DAC (with temp matrix)\", \"Serial Cutoff\")\n",
    "plot_weak_scaling(dac_notemp_median, \"threads\", \"Speedup\", \"DAC (without temp matrix)\", \"Serial Cutoff\")\n",
    "plot_weak_scaling(strassens_median, \"threads\", \"Speedup\", \"Strassens\", \"Serial Cutoff\")"
   ]
  },
  {
   "cell_type": "code",
   "execution_count": null,
   "metadata": {},
   "outputs": [],
   "source": [
    "max_N = 512\n",
    "plot_strong_scaling(parfor_median[parfor_median[\"N\"] == max_N], \"threads\", \"Efficiency\", \"Parallel For\")\n",
    "plot_strong_scaling(tiled_median[tiled_median[\"N\"] == max_N], \"threads\", \"Efficiency\", \"Tiled\", \"Tile Size\")\n",
    "plot_strong_scaling(dac_temp_median[dac_temp_median[\"N\"] == max_N], \"threads\", \"Efficiency\", \"DAC (with temp matrix)\", \"Serial Cutoff\")\n",
    "plot_strong_scaling(dac_notemp_median[dac_notemp_median[\"N\"] == max_N], \"threads\", \"Efficiency\", \"DAC (without temp matrix)\", \"Serial Cutoff\")\n",
    "plot_strong_scaling(strassens_median[strassens_median[\"N\"] == max_N], \"threads\", \"Efficiency\", \"Strassens\", \"Serial Cutoff\")"
   ]
  },
  {
   "cell_type": "code",
   "execution_count": null,
   "metadata": {},
   "outputs": [],
   "source": [
    "plot_weak_scaling(parfor_median, \"threads\", \"Efficiency\", \"Parallel For\")\n",
    "plot_weak_scaling(tiled_median, \"threads\", \"Efficiency\", \"Tiled\", \"Tile Size\")\n",
    "plot_weak_scaling(dac_temp_median, \"threads\", \"Efficiency\", \"DAC (with temp matrix)\", \"Serial Cutoff\")\n",
    "plot_weak_scaling(dac_notemp_median, \"threads\", \"Efficiency\", \"DAC (without temp matrix)\", \"Serial Cutoff\")\n",
    "plot_weak_scaling(strassens_median, \"threads\", \"Efficiency\", \"Strassens\", \"Serial Cutoff\")"
   ]
  }
 ],
 "metadata": {
  "kernelspec": {
   "display_name": "main",
   "language": "python",
   "name": "python3"
  },
  "language_info": {
   "codemirror_mode": {
    "name": "ipython",
    "version": 3
   },
   "file_extension": ".py",
   "mimetype": "text/x-python",
   "name": "python",
   "nbconvert_exporter": "python",
   "pygments_lexer": "ipython3",
   "version": "3.11.0"
  }
 },
 "nbformat": 4,
 "nbformat_minor": 2
}
