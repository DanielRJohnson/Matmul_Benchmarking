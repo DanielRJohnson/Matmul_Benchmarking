{
 "cells": [
  {
   "cell_type": "code",
   "execution_count": null,
   "metadata": {},
   "outputs": [],
   "source": [
    "import pandas as pd\n",
    "import seaborn as sns\n",
    "import matplotlib.pyplot as plt"
   ]
  },
  {
   "cell_type": "code",
   "execution_count": null,
   "metadata": {},
   "outputs": [],
   "source": [
    "df = pd.read_csv(\"./data/caching.csv\")\n",
    "df[\"mean_runtime(s)\"] = df[\"runtime(s)\"] / df[\"n_runs\"]\n",
    "df[\"L1_DC_HIT_PERCENT\"] = 100 - df[\"L1_DC_MISS_PERCENT\"]\n",
    "df[\"group_id\"] = [1,1,1,2,3,4,1,2,3,1,2,3,1,2,3]\n",
    "df[\"algorithm_param\"] = df[\"algorithm\"] + \"_\" + df[\"param\"].astype(str)\n",
    "df.iloc[0, -1] = \"vanilla\"\n",
    "df.iloc[1, -1] = \"parfor\"\n",
    "df"
   ]
  },
  {
   "cell_type": "code",
   "execution_count": null,
   "metadata": {},
   "outputs": [],
   "source": [
    "sns.barplot(df.iloc[1:], x=\"algorithm_param\", y=\"L1_DC_HIT_PERCENT\", hue=\"algorithm_param\", palette=\"pastel\", legend=False)\n",
    "plt.xticks(rotation=90)\n",
    "plt.xlabel(\"\")\n",
    "plt.ylim(65, 100)\n",
    "plt.ylabel(\"L1 Cache Hit %\")\n",
    "plt.gcf().set_size_inches(8, 6)\n",
    "plt.title(\"L1 Cache Usage By Algorithm + Parameter\\nN = 2048, threads = 16\")\n",
    "plt.savefig(\"./figures/cache.png\", transparent=True)\n",
    "plt.show()"
   ]
  },
  {
   "cell_type": "code",
   "execution_count": null,
   "metadata": {},
   "outputs": [],
   "source": [
    "sns.barplot(df.iloc[1:], x=\"algorithm_param\", y=\"mean_runtime(s)\", hue=\"algorithm_param\", palette=\"pastel\", legend=False)\n",
    "plt.xticks(rotation=90)\n",
    "plt.xlabel(\"\")\n",
    "plt.ylabel(\"Mean Runtime (in seconds)\")\n",
    "plt.gcf().set_size_inches(8, 6)\n",
    "plt.title(\"Mean Runtime By Algorithm + Parameter\\nN = 2048, threads = 16\")\n",
    "plt.savefig(\"./figures/runtime.png\", transparent=True)\n",
    "plt.show()"
   ]
  }
 ],
 "metadata": {
  "kernelspec": {
   "display_name": "main",
   "language": "python",
   "name": "python3"
  },
  "language_info": {
   "codemirror_mode": {
    "name": "ipython",
    "version": 3
   },
   "file_extension": ".py",
   "mimetype": "text/x-python",
   "name": "python",
   "nbconvert_exporter": "python",
   "pygments_lexer": "ipython3",
   "version": "3.11.0"
  }
 },
 "nbformat": 4,
 "nbformat_minor": 2
}
